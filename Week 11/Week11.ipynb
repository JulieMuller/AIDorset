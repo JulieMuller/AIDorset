{
 "cells": [
  {
   "cell_type": "code",
   "execution_count": 19,
   "metadata": {},
   "outputs": [],
   "source": [
    "import os\n",
    "import numpy as np\n",
    "import matplotlib.pyplot as plt\n",
    "import torch\n",
    "import torchvision\n",
    "import torchvision.transforms as transforms\n",
    "import torch.nn as nn\n",
    "\n",
    "from torchvision import datasets\n",
    "\n",
    "from torch.utils import tensorboard"
   ]
  },
  {
   "cell_type": "code",
   "execution_count": 20,
   "metadata": {},
   "outputs": [],
   "source": [
    "writer=tensorboard.SummaryWriter('runs/experiment_1')"
   ]
  },
  {
   "cell_type": "code",
   "execution_count": 21,
   "metadata": {},
   "outputs": [
    {
     "name": "stdout",
     "output_type": "stream",
     "text": [
      "Dataset MNIST\n",
      "    Number of datapoints: 60000\n",
      "    Root location: data\n",
      "    Split: Train\n",
      "    StandardTransform\n",
      "Transform: ToTensor()\n"
     ]
    }
   ],
   "source": [
    "from torchvision.transforms import ToTensor\n",
    "\n",
    "train_data= datasets.MNIST(train=True,\n",
    "                           root='data',\n",
    "                           transform=ToTensor(),\n",
    "                           download=True)\n",
    "test_data=datasets.MNIST(train=True,\n",
    "                           root='data',\n",
    "                           transform=ToTensor(),\n",
    "                           download=True)\n",
    "\n",
    "\n",
    "print(train_data)"
   ]
  },
  {
   "cell_type": "code",
   "execution_count": 22,
   "metadata": {},
   "outputs": [
    {
     "data": {
      "text/plain": [
       "Text(0.5, 1.0, '5')"
      ]
     },
     "execution_count": 22,
     "metadata": {},
     "output_type": "execute_result"
    },
    {
     "data": {
      "image/png": "[encoded data removed]",
      "text/plain": [
       "<Figure size 640x480 with 1 Axes>"
      ]
     },
     "metadata": {},
     "output_type": "display_data"
    }
   ],
   "source": [
    "plt.imshow(train_data.data[0])\n",
    "plt.title(train_data.targets[0].item())"
   ]
  },
  {
   "cell_type": "code",
   "execution_count": 23,
   "metadata": {},
   "outputs": [],
   "source": [
    "train_loader=torch.utils.data.DataLoader(train_data,\n",
    "                                    batch_size=100,\n",
    "                                    shuffle=True)\n",
    "\n",
    "train_loader=torch.utils.data.DataLoader(test_data,\n",
    "                                    batch_size=100,\n",
    "                                    shuffle=True)"
   ]
  },
  {
   "cell_type": "code",
   "execution_count": 24,
   "metadata": {},
   "outputs": [
    {
     "name": "stdout",
     "output_type": "stream",
     "text": [
      "The tensorboard extension is already loaded. To reload it, use:\n",
      "  %reload_ext tensorboard\n"
     ]
    },
    {
     "data": {
      "text/plain": [
       "Reusing TensorBoard on port 6006 (pid 30568), started 0:47:48 ago. (Use '!kill 30568' to kill it.)"
      ]
     },
     "metadata": {},
     "output_type": "display_data"
    },
    {
     "data": {
      "text/html": [
       "\n",
       "      <iframe id=\"tensorboard-frame-eeb21e180982d64f\" width=\"100%\" height=\"800\" frameborder=\"0\">\n",
       "      </iframe>\n",
       "      <script>\n",
       "        (function() {\n",
       "          const frame = document.getElementById(\"tensorboard-frame-eeb21e180982d64f\");\n",
       "          const url = new URL(\"http://localhost\");\n",
       "          const port = 6006;\n",
       "          if (port) {\n",
       "            url.port = port;\n",
       "          }\n",
       "          frame.src = url;\n",
       "        })();\n",
       "      </script>\n",
       "    "
      ],
      "text/plain": [
       "<IPython.core.display.HTML object>"
      ]
     },
     "metadata": {},
     "output_type": "display_data"
    }
   ],
   "source": [
    "%load_ext tensorboard\n",
    "%tensorboard --logdir runs"
   ]
  },
  {
   "cell_type": "code",
   "execution_count": null,
   "metadata": {},
   "outputs": [],
   "source": [
    "#create a model\n",
    "#conv() -> relu -> maxpool"
   ]
  },
  {
   "cell_type": "code",
   "execution_count": 30,
   "metadata": {},
   "outputs": [
    {
     "ename": "AssertionError",
     "evalue": "size of input tensor and input format are different.         tensor shape: (3, 392, 242), input_format: NCHW",
     "output_type": "error",
     "traceback": [
      "\u001b[1;31m---------------------------------------------------------------------------\u001b[0m",
      "\u001b[1;31mAssertionError\u001b[0m                            Traceback (most recent call last)",
      "\u001b[1;32mc:\\Users\\Mulle\\Desktop\\AIDorset\\Week 11\\Week11.ipynb Cell 8\u001b[0m line \u001b[0;36m4\n\u001b[0;32m      <a href='vscode-notebook-cell:/c%3A/Users/Mulle/Desktop/AIDorset/Week%2011/Week11.ipynb#X10sZmlsZQ%3D%3D?line=1'>2</a>\u001b[0m images, targets \u001b[39m=\u001b[39m \u001b[39mnext\u001b[39m(data_sample)\n\u001b[0;32m      <a href='vscode-notebook-cell:/c%3A/Users/Mulle/Desktop/AIDorset/Week%2011/Week11.ipynb#X10sZmlsZQ%3D%3D?line=2'>3</a>\u001b[0m image_grid\u001b[39m=\u001b[39m torchvision\u001b[39m.\u001b[39mutils\u001b[39m.\u001b[39mmake_grid(images)\n\u001b[1;32m----> <a href='vscode-notebook-cell:/c%3A/Users/Mulle/Desktop/AIDorset/Week%2011/Week11.ipynb#X10sZmlsZQ%3D%3D?line=3'>4</a>\u001b[0m writer\u001b[39m.\u001b[39;49madd_images(\u001b[39m'\u001b[39;49m\u001b[39mSample MNIST\u001b[39;49m\u001b[39m'\u001b[39;49m, image_grid)\n",
      "File \u001b[1;32mc:\\Users\\Mulle\\anaconda3\\envs\\py38\\lib\\site-packages\\torch\\utils\\tensorboard\\writer.py:695\u001b[0m, in \u001b[0;36mSummaryWriter.add_images\u001b[1;34m(self, tag, img_tensor, global_step, walltime, dataformats)\u001b[0m\n\u001b[0;32m    691\u001b[0m     \u001b[39mfrom\u001b[39;00m \u001b[39mcaffe2\u001b[39;00m\u001b[39m.\u001b[39;00m\u001b[39mpython\u001b[39;00m \u001b[39mimport\u001b[39;00m workspace\n\u001b[0;32m    693\u001b[0m     img_tensor \u001b[39m=\u001b[39m workspace\u001b[39m.\u001b[39mFetchBlob(img_tensor)\n\u001b[0;32m    694\u001b[0m \u001b[39mself\u001b[39m\u001b[39m.\u001b[39m_get_file_writer()\u001b[39m.\u001b[39madd_summary(\n\u001b[1;32m--> 695\u001b[0m     image(tag, img_tensor, dataformats\u001b[39m=\u001b[39;49mdataformats), global_step, walltime\n\u001b[0;32m    696\u001b[0m )\n",
      "File \u001b[1;32mc:\\Users\\Mulle\\anaconda3\\envs\\py38\\lib\\site-packages\\torch\\utils\\tensorboard\\summary.py:545\u001b[0m, in \u001b[0;36mimage\u001b[1;34m(tag, tensor, rescale, dataformats)\u001b[0m\n\u001b[0;32m    519\u001b[0m \u001b[39m\u001b[39m\u001b[39m\"\"\"Outputs a `Summary` protocol buffer with images.\u001b[39;00m\n\u001b[0;32m    520\u001b[0m \u001b[39mThe summary has up to `max_images` summary values containing images. The\u001b[39;00m\n\u001b[0;32m    521\u001b[0m \u001b[39mimages are built from `tensor` which must be 3-D with shape `[height, width,\u001b[39;00m\n\u001b[1;32m   (...)\u001b[0m\n\u001b[0;32m    542\u001b[0m \u001b[39m  buffer.\u001b[39;00m\n\u001b[0;32m    543\u001b[0m \u001b[39m\"\"\"\u001b[39;00m\n\u001b[0;32m    544\u001b[0m tensor \u001b[39m=\u001b[39m make_np(tensor)\n\u001b[1;32m--> 545\u001b[0m tensor \u001b[39m=\u001b[39m convert_to_HWC(tensor, dataformats)\n\u001b[0;32m    546\u001b[0m \u001b[39m# Do not assume that user passes in values in [0, 255], use data type to detect\u001b[39;00m\n\u001b[0;32m    547\u001b[0m scale_factor \u001b[39m=\u001b[39m _calc_scale_factor(tensor)\n",
      "File \u001b[1;32mc:\\Users\\Mulle\\anaconda3\\envs\\py38\\lib\\site-packages\\torch\\utils\\tensorboard\\_utils.py:99\u001b[0m, in \u001b[0;36mconvert_to_HWC\u001b[1;34m(tensor, input_format)\u001b[0m\n\u001b[0;32m     95\u001b[0m \u001b[39mdef\u001b[39;00m \u001b[39mconvert_to_HWC\u001b[39m(tensor, input_format):  \u001b[39m# tensor: numpy array\u001b[39;00m\n\u001b[0;32m     96\u001b[0m     \u001b[39massert\u001b[39;00m \u001b[39mlen\u001b[39m(\u001b[39mset\u001b[39m(input_format)) \u001b[39m==\u001b[39m \u001b[39mlen\u001b[39m(\n\u001b[0;32m     97\u001b[0m         input_format\n\u001b[0;32m     98\u001b[0m     ), \u001b[39mf\u001b[39m\u001b[39m\"\u001b[39m\u001b[39mYou can not use the same dimension shordhand twice.         input_format: \u001b[39m\u001b[39m{\u001b[39;00minput_format\u001b[39m}\u001b[39;00m\u001b[39m\"\u001b[39m\n\u001b[1;32m---> 99\u001b[0m     \u001b[39massert\u001b[39;00m \u001b[39mlen\u001b[39m(tensor\u001b[39m.\u001b[39mshape) \u001b[39m==\u001b[39m \u001b[39mlen\u001b[39m(\n\u001b[0;32m    100\u001b[0m         input_format\n\u001b[0;32m    101\u001b[0m     ), \u001b[39mf\u001b[39m\u001b[39m\"\u001b[39m\u001b[39msize of input tensor and input format are different. \u001b[39m\u001b[39m\\\u001b[39;00m\n\u001b[0;32m    102\u001b[0m \u001b[39m        tensor shape: \u001b[39m\u001b[39m{\u001b[39;00mtensor\u001b[39m.\u001b[39mshape\u001b[39m}\u001b[39;00m\u001b[39m, input_format: \u001b[39m\u001b[39m{\u001b[39;00minput_format\u001b[39m}\u001b[39;00m\u001b[39m\"\u001b[39m\n\u001b[0;32m    103\u001b[0m     input_format \u001b[39m=\u001b[39m input_format\u001b[39m.\u001b[39mupper()\n\u001b[0;32m    105\u001b[0m     \u001b[39mif\u001b[39;00m \u001b[39mlen\u001b[39m(input_format) \u001b[39m==\u001b[39m \u001b[39m4\u001b[39m:\n",
      "\u001b[1;31mAssertionError\u001b[0m: size of input tensor and input format are different.         tensor shape: (3, 392, 242), input_format: NCHW"
     ]
    }
   ],
   "source": [
    "data_sample=iter(train_loader)\n",
    "images, targets = next(data_sample)\n",
    "image_grid= torchvision.utils.make_grid(images)\n",
    "writer.add_images('Sample MNIST', image_grid)"
   ]
  },
  {
   "cell_type": "code",
   "execution_count": 26,
   "metadata": {},
   "outputs": [],
   "source": [
    "import torch.nn as nn\n",
    "import torch.nn.functional as F\n",
    "class mnist_cnn(nn.Module):\n",
    "  def __init__(self):\n",
    "    super(mnist_cnn, self).__init()\n",
    "\n",
    "    self.conv_1=nn.Sequential(\n",
    "        nn.Conv2D(\n",
    "            in_channels=1,\n",
    "            out_channels=16,\n",
    "            kernel_size=5,\n",
    "            stride=1,\n",
    "            padding=2\n",
    "        ),\n",
    "        nn.Relu(),\n",
    "        nn.MaxPool2d(kernel_size=2)\n",
    "    )\n",
    "\n",
    "    self.conv_2=nn.Squential(\n",
    "        nn.Conv2D(16,32,5,1,2),\n",
    "        nn.Relu(),\n",
    "        nn.MaxPool2d(2)\n",
    "\n",
    "    )\n",
    "\n",
    "    self.linear_1=nn.Linear(32*7*7,10)\n",
    "\n",
    "    def forward(self,x):\n",
    "      x_1 = self.conv_1(x)\n",
    "      x_2 = self.conv_2(x_1)\n",
    "      x=x.view(x.size(0),-1)\n",
    "      out=self.Linear(x_2)\n",
    "\n",
    "      return out,x"
   ]
  },
  {
   "cell_type": "code",
   "execution_count": 27,
   "metadata": {},
   "outputs": [
    {
     "ename": "AttributeError",
     "evalue": "'super' object has no attribute '_mnist_cnn__init'",
     "output_type": "error",
     "traceback": [
      "\u001b[1;31m---------------------------------------------------------------------------\u001b[0m",
      "\u001b[1;31mAttributeError\u001b[0m                            Traceback (most recent call last)",
      "\u001b[1;32mc:\\Users\\Mulle\\Desktop\\AIDorset\\Week 11\\Week11.ipynb Cell 10\u001b[0m line \u001b[0;36m1\n\u001b[1;32m----> <a href='vscode-notebook-cell:/c%3A/Users/Mulle/Desktop/AIDorset/Week%2011/Week11.ipynb#X12sZmlsZQ%3D%3D?line=0'>1</a>\u001b[0m model\u001b[39m=\u001b[39m mnist_cnn()\n\u001b[0;32m      <a href='vscode-notebook-cell:/c%3A/Users/Mulle/Desktop/AIDorset/Week%2011/Week11.ipynb#X12sZmlsZQ%3D%3D?line=1'>2</a>\u001b[0m \u001b[39mprint\u001b[39m(model)\n\u001b[0;32m      <a href='vscode-notebook-cell:/c%3A/Users/Mulle/Desktop/AIDorset/Week%2011/Week11.ipynb#X12sZmlsZQ%3D%3D?line=3'>4</a>\u001b[0m writer\u001b[39m.\u001b[39madd\n",
      "\u001b[1;32mc:\\Users\\Mulle\\Desktop\\AIDorset\\Week 11\\Week11.ipynb Cell 10\u001b[0m line \u001b[0;36m5\n\u001b[0;32m      <a href='vscode-notebook-cell:/c%3A/Users/Mulle/Desktop/AIDorset/Week%2011/Week11.ipynb#X12sZmlsZQ%3D%3D?line=3'>4</a>\u001b[0m \u001b[39mdef\u001b[39;00m \u001b[39m__init__\u001b[39m(\u001b[39mself\u001b[39m):\n\u001b[1;32m----> <a href='vscode-notebook-cell:/c%3A/Users/Mulle/Desktop/AIDorset/Week%2011/Week11.ipynb#X12sZmlsZQ%3D%3D?line=4'>5</a>\u001b[0m   \u001b[39msuper\u001b[39;49m(mnist_cnn, \u001b[39mself\u001b[39;49m)\u001b[39m.\u001b[39;49m__init()\n\u001b[0;32m      <a href='vscode-notebook-cell:/c%3A/Users/Mulle/Desktop/AIDorset/Week%2011/Week11.ipynb#X12sZmlsZQ%3D%3D?line=6'>7</a>\u001b[0m   \u001b[39mself\u001b[39m\u001b[39m.\u001b[39mconv_1\u001b[39m=\u001b[39mnn\u001b[39m.\u001b[39mSequential(\n\u001b[0;32m      <a href='vscode-notebook-cell:/c%3A/Users/Mulle/Desktop/AIDorset/Week%2011/Week11.ipynb#X12sZmlsZQ%3D%3D?line=7'>8</a>\u001b[0m       nn\u001b[39m.\u001b[39mConv2D(\n\u001b[0;32m      <a href='vscode-notebook-cell:/c%3A/Users/Mulle/Desktop/AIDorset/Week%2011/Week11.ipynb#X12sZmlsZQ%3D%3D?line=8'>9</a>\u001b[0m           in_channels\u001b[39m=\u001b[39m\u001b[39m1\u001b[39m,\n\u001b[1;32m   (...)\u001b[0m\n\u001b[0;32m     <a href='vscode-notebook-cell:/c%3A/Users/Mulle/Desktop/AIDorset/Week%2011/Week11.ipynb#X12sZmlsZQ%3D%3D?line=15'>16</a>\u001b[0m       nn\u001b[39m.\u001b[39mMaxPool2d(kernel_size\u001b[39m=\u001b[39m\u001b[39m2\u001b[39m)\n\u001b[0;32m     <a href='vscode-notebook-cell:/c%3A/Users/Mulle/Desktop/AIDorset/Week%2011/Week11.ipynb#X12sZmlsZQ%3D%3D?line=16'>17</a>\u001b[0m   )\n\u001b[0;32m     <a href='vscode-notebook-cell:/c%3A/Users/Mulle/Desktop/AIDorset/Week%2011/Week11.ipynb#X12sZmlsZQ%3D%3D?line=18'>19</a>\u001b[0m   \u001b[39mself\u001b[39m\u001b[39m.\u001b[39mconv_2\u001b[39m=\u001b[39mnn\u001b[39m.\u001b[39mSquential(\n\u001b[0;32m     <a href='vscode-notebook-cell:/c%3A/Users/Mulle/Desktop/AIDorset/Week%2011/Week11.ipynb#X12sZmlsZQ%3D%3D?line=19'>20</a>\u001b[0m       nn\u001b[39m.\u001b[39mConv2D(\u001b[39m16\u001b[39m,\u001b[39m32\u001b[39m,\u001b[39m5\u001b[39m,\u001b[39m1\u001b[39m,\u001b[39m2\u001b[39m),\n\u001b[0;32m     <a href='vscode-notebook-cell:/c%3A/Users/Mulle/Desktop/AIDorset/Week%2011/Week11.ipynb#X12sZmlsZQ%3D%3D?line=20'>21</a>\u001b[0m       nn\u001b[39m.\u001b[39mRelu(),\n\u001b[0;32m     <a href='vscode-notebook-cell:/c%3A/Users/Mulle/Desktop/AIDorset/Week%2011/Week11.ipynb#X12sZmlsZQ%3D%3D?line=21'>22</a>\u001b[0m       nn\u001b[39m.\u001b[39mMaxPool2d(\u001b[39m2\u001b[39m)\n\u001b[0;32m     <a href='vscode-notebook-cell:/c%3A/Users/Mulle/Desktop/AIDorset/Week%2011/Week11.ipynb#X12sZmlsZQ%3D%3D?line=22'>23</a>\u001b[0m \n\u001b[0;32m     <a href='vscode-notebook-cell:/c%3A/Users/Mulle/Desktop/AIDorset/Week%2011/Week11.ipynb#X12sZmlsZQ%3D%3D?line=23'>24</a>\u001b[0m   )\n",
      "\u001b[1;31mAttributeError\u001b[0m: 'super' object has no attribute '_mnist_cnn__init'"
     ]
    }
   ],
   "source": [
    "model= mnist_cnn()\n",
    "print(model)\n",
    "\n",
    "writer.add"
   ]
  },
  {
   "cell_type": "code",
   "execution_count": 31,
   "metadata": {},
   "outputs": [
    {
     "ename": "NameError",
     "evalue": "name 'model' is not defined",
     "output_type": "error",
     "traceback": [
      "\u001b[1;31m---------------------------------------------------------------------------\u001b[0m",
      "\u001b[1;31mNameError\u001b[0m                                 Traceback (most recent call last)",
      "\u001b[1;32mc:\\Users\\Mulle\\Desktop\\AIDorset\\Week 11\\Week11.ipynb Cell 11\u001b[0m line \u001b[0;36m3\n\u001b[0;32m      <a href='vscode-notebook-cell:/c%3A/Users/Mulle/Desktop/AIDorset/Week%2011/Week11.ipynb#X13sZmlsZQ%3D%3D?line=0'>1</a>\u001b[0m \u001b[39m#define loss function and optimizer\u001b[39;00m\n\u001b[0;32m      <a href='vscode-notebook-cell:/c%3A/Users/Mulle/Desktop/AIDorset/Week%2011/Week11.ipynb#X13sZmlsZQ%3D%3D?line=1'>2</a>\u001b[0m loss_func \u001b[39m=\u001b[39m nn\u001b[39m.\u001b[39mCrossEntropyLoss()\n\u001b[1;32m----> <a href='vscode-notebook-cell:/c%3A/Users/Mulle/Desktop/AIDorset/Week%2011/Week11.ipynb#X13sZmlsZQ%3D%3D?line=2'>3</a>\u001b[0m optimizer \u001b[39m=\u001b[39m torch\u001b[39m.\u001b[39moptim\u001b[39m.\u001b[39mSGD(model\u001b[39m.\u001b[39mparameters(), lr \u001b[39m=\u001b[39m \u001b[39m0.01\u001b[39m)\n",
      "\u001b[1;31mNameError\u001b[0m: name 'model' is not defined"
     ]
    }
   ],
   "source": [
    "#define loss function and optimizer\n",
    "from torch.autograd import Variable\n",
    "\n",
    "loss_func = nn.CrossEntropyLoss()\n",
    "optimizer = torch.optim.SGD(model.parameters(), lr = 0.01)\n",
    "#trainin loops\n",
    "epochs = 5\n",
    "model.train()\n",
    "for e in range(epochs): #loop over the nmber of epochs\n",
    "    running_loss = 0.0\n",
    "    for i in (images, labels) in enumerate(train_loader): #loop over batch size = 100\n",
    "        b_x = Variable(images)\n",
    "        b_y = Variable(labels)\n",
    "\n",
    "out = model(b_x)[0]\n",
    "loss = loss_func(out, b_y)\n",
    "running_loss += loss \n"
   ]
  }
 ],
 "metadata": {
  "kernelspec": {
   "display_name": "py38",
   "language": "python",
   "name": "python3"
  },
  "language_info": {
   "codemirror_mode": {
    "name": "ipython",
    "version": 3
   },
   "file_extension": ".py",
   "mimetype": "text/x-python",
   "name": "python",
   "nbconvert_exporter": "python",
   "pygments_lexer": "ipython3",
   "version": "3.8.17"
  }
 },
 "nbformat": 4,
 "nbformat_minor": 2
}
